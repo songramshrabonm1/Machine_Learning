{
  "nbformat": 4,
  "nbformat_minor": 0,
  "metadata": {
    "colab": {
      "provenance": [],
      "toc_visible": true
    },
    "kernelspec": {
      "name": "python3",
      "display_name": "Python 3"
    },
    "language_info": {
      "name": "python"
    }
  },
  "cells": [
    {
      "cell_type": "markdown",
      "source": [
        "# Array\n",
        "\n",
        "পাইথনের মধ্যে ম্যাথ ভালো করে সার্পোট দেয় কিন্তু array support দেয় না এর জন্য প্রথম ১৯৯৫ সালে jim hunguin numeric array create করে তারপর ২০০০ সালে space telescope science institute numarray create করে কিন্তু এগুলো ভালো ভাবে কাজ করচিল না ।\n",
        "\n",
        "তারপর ২০০৫ সালে travis oliphant numeric array + numarray কে একসাথে করে numpy তৈরি করে ।\n",
        "\n",
        "\n",
        "Array create করতে হলে আমাদের list আগে বানাতে হবে তারপর  টা np.array function এ পাস করতে হবে ।\n",
        "\n",
        "list array এর তুলনায় ফাস্ট না ।\n",
        "\n",
        "\n",
        "list এর মধ্যে অনেক ধরনের ডাঁটা রাখা যায় একসাথে কিন্তু array এর মধ্যে আমরা শুধু একধরনের Data রাখতে পারি ।\n",
        "\n",
        "যদি আমরা অনেক ধরনের ডাঁটা রাখতে চাই তাহলে যদি string type এর Data থাকে তাহলে তাতে সবগুলো DAta স্ট্রিং এ convert হয়ে যাবে ।\n",
        "\n",
        "যদি string না থেকে floating type value থাকে তাহলে তা floating এ convert হয়ে যাবে।"
      ],
      "metadata": {
        "id": "hvhoU0ow9BE2"
      }
    },
    {
      "cell_type": "code",
      "source": [
        "import numpy as np\n",
        "list = [2,3,4,10] # list create\n",
        "list\n"
      ],
      "metadata": {
        "colab": {
          "base_uri": "https://localhost:8080/"
        },
        "id": "nIQpduiW_Ckb",
        "outputId": "4a1ca76c-2698-48fa-984e-42bdb6ed5862"
      },
      "execution_count": 6,
      "outputs": [
        {
          "output_type": "execute_result",
          "data": {
            "text/plain": [
              "[2, 3, 4, 10]"
            ]
          },
          "metadata": {},
          "execution_count": 6
        }
      ]
    },
    {
      "cell_type": "code",
      "source": [
        "array = np.array(list) # array create np.array(list)"
      ],
      "metadata": {
        "id": "RWjgb4QW_tUv"
      },
      "execution_count": 7,
      "outputs": []
    },
    {
      "cell_type": "code",
      "source": [
        "listCheck = [2,3,421,'dibyo']\n",
        "listCheck\n",
        "variousDataTypeArray = np.array(listCheck)\n",
        "variousDataTypeArray\n",
        "# এখানে সব গুলো ডাঁটা element স্ট্রিং এ convert হয়ে যাবে ।"
      ],
      "metadata": {
        "colab": {
          "base_uri": "https://localhost:8080/"
        },
        "id": "61gQbo-v_3C5",
        "outputId": "0609b5ff-6dee-4ce2-f1f6-2b5862421de3"
      },
      "execution_count": 8,
      "outputs": [
        {
          "output_type": "execute_result",
          "data": {
            "text/plain": [
              "array(['2', '3', '421', 'dibyo'], dtype='<U21')"
            ]
          },
          "metadata": {},
          "execution_count": 8
        }
      ]
    },
    {
      "cell_type": "code",
      "source": [
        "# floating datatype এ convert\n",
        "ListCheck = [2,3,4.2, 53.52, 34.2002]\n",
        "FloatingDAta = np.array(ListCheck)\n",
        "FloatingDAta"
      ],
      "metadata": {
        "colab": {
          "base_uri": "https://localhost:8080/"
        },
        "id": "AqdYzTITBBPy",
        "outputId": "358102ec-f8e1-4b2c-9897-54ae66d2dcec"
      },
      "execution_count": 9,
      "outputs": [
        {
          "output_type": "execute_result",
          "data": {
            "text/plain": [
              "array([ 2.    ,  3.    ,  4.2   , 53.52  , 34.2002])"
            ]
          },
          "metadata": {},
          "execution_count": 9
        }
      ]
    },
    {
      "cell_type": "markdown",
      "source": [
        "# Vector And Matrix\n",
        "\n",
        "vector One dimentional & Matrix Two Dimentional\n",
        "\n",
        "list যদি one dimetional এর থেকে বেশি হয় কিন্তু তবু তা list ই থাকে matrix এ হয় কিন্তু vector তা matrix হয়ে যায় ।\n",
        "\n",
        "আমরা vector  দিয়ে ম্যাট্রিক্স বানানো যায় ।\n"
      ],
      "metadata": {
        "id": "PTSUEpavBeMg"
      }
    },
    {
      "cell_type": "code",
      "source": [
        "Dimentionallist = [[2343,2,43,51,12],[23,1,20,41,5] , [21,40,10,35,3]]\n",
        "Dimentionallist  # এই যে এইটা list এর মত করেই output আসবে ।"
      ],
      "metadata": {
        "colab": {
          "base_uri": "https://localhost:8080/"
        },
        "id": "TLij8eWBCYxJ",
        "outputId": "f2325330-dd7a-45a1-db4c-d24f5d5224da"
      },
      "execution_count": 10,
      "outputs": [
        {
          "output_type": "execute_result",
          "data": {
            "text/plain": [
              "[[2343, 2, 43, 51, 12], [23, 1, 20, 41, 5], [21, 40, 10, 35, 3]]"
            ]
          },
          "metadata": {},
          "execution_count": 10
        }
      ]
    },
    {
      "cell_type": "code",
      "source": [
        "matrixx = np.array(Dimentionallist)\n",
        "matrixx"
      ],
      "metadata": {
        "colab": {
          "base_uri": "https://localhost:8080/"
        },
        "id": "7S8mnnfJCxwF",
        "outputId": "e0bd49f4-a800-492d-8ffa-4a377a5a973f"
      },
      "execution_count": 11,
      "outputs": [
        {
          "output_type": "execute_result",
          "data": {
            "text/plain": [
              "array([[2343,    2,   43,   51,   12],\n",
              "       [  23,    1,   20,   41,    5],\n",
              "       [  21,   40,   10,   35,    3]])"
            ]
          },
          "metadata": {},
          "execution_count": 11
        }
      ]
    },
    {
      "cell_type": "markdown",
      "source": [
        "# Array Generator\n"
      ],
      "metadata": {
        "id": "I-PDVD4oDaug"
      }
    },
    {
      "cell_type": "code",
      "source": [
        "arrangeVector = np.arange(1,10) # start value , then last wanted value + 1\n",
        "arrangeVector"
      ],
      "metadata": {
        "colab": {
          "base_uri": "https://localhost:8080/"
        },
        "id": "txoyKvCUDe2y",
        "outputId": "777ddf7a-f30e-4331-c94f-175918a5e81c"
      },
      "execution_count": 12,
      "outputs": [
        {
          "output_type": "execute_result",
          "data": {
            "text/plain": [
              "array([1, 2, 3, 4, 5, 6, 7, 8, 9])"
            ]
          },
          "metadata": {},
          "execution_count": 12
        }
      ]
    },
    {
      "cell_type": "code",
      "source": [
        "np.arange(1,11, 2) # 2 ঘর পরে পরে আসবে"
      ],
      "metadata": {
        "colab": {
          "base_uri": "https://localhost:8080/"
        },
        "id": "vZhLQPcKEIRd",
        "outputId": "3a288fc6-934c-4315-9e3d-abe03a82e8b1"
      },
      "execution_count": 13,
      "outputs": [
        {
          "output_type": "execute_result",
          "data": {
            "text/plain": [
              "array([1, 3, 5, 7, 9])"
            ]
          },
          "metadata": {},
          "execution_count": 13
        }
      ]
    },
    {
      "cell_type": "markdown",
      "source": [
        "# Zero function"
      ],
      "metadata": {
        "id": "y9dI3V0NFOaf"
      }
    },
    {
      "cell_type": "code",
      "source": [
        "np.zeros(5) # 5 টা zero generated হবে"
      ],
      "metadata": {
        "colab": {
          "base_uri": "https://localhost:8080/"
        },
        "id": "EhdQ570QEXUM",
        "outputId": "01a9c75b-96a8-4697-ad5f-9fb3558a7213"
      },
      "execution_count": 14,
      "outputs": [
        {
          "output_type": "execute_result",
          "data": {
            "text/plain": [
              "array([0., 0., 0., 0., 0.])"
            ]
          },
          "metadata": {},
          "execution_count": 14
        }
      ]
    },
    {
      "cell_type": "code",
      "source": [
        "np.zeros((10,5)) # matrix আকারে আসবে ১০ টা row আর 5 টা কলাম আসবে ।"
      ],
      "metadata": {
        "colab": {
          "base_uri": "https://localhost:8080/"
        },
        "id": "FjEhT5haEeQ_",
        "outputId": "8f9c60c6-a3fc-4062-fc9d-f9fa27615574"
      },
      "execution_count": 15,
      "outputs": [
        {
          "output_type": "execute_result",
          "data": {
            "text/plain": [
              "array([[0., 0., 0., 0., 0.],\n",
              "       [0., 0., 0., 0., 0.],\n",
              "       [0., 0., 0., 0., 0.],\n",
              "       [0., 0., 0., 0., 0.],\n",
              "       [0., 0., 0., 0., 0.],\n",
              "       [0., 0., 0., 0., 0.],\n",
              "       [0., 0., 0., 0., 0.],\n",
              "       [0., 0., 0., 0., 0.],\n",
              "       [0., 0., 0., 0., 0.],\n",
              "       [0., 0., 0., 0., 0.]])"
            ]
          },
          "metadata": {},
          "execution_count": 15
        }
      ]
    },
    {
      "cell_type": "markdown",
      "source": [
        "# ones function"
      ],
      "metadata": {
        "id": "biUAtB9xFek2"
      }
    },
    {
      "cell_type": "code",
      "source": [
        "np.ones(5)# 5 টা one আসবে\n"
      ],
      "metadata": {
        "colab": {
          "base_uri": "https://localhost:8080/"
        },
        "id": "8OpQndOuEzgW",
        "outputId": "c6243def-c04e-45c3-9adc-b4cb8f39469e"
      },
      "execution_count": 16,
      "outputs": [
        {
          "output_type": "execute_result",
          "data": {
            "text/plain": [
              "array([1., 1., 1., 1., 1.])"
            ]
          },
          "metadata": {},
          "execution_count": 16
        }
      ]
    },
    {
      "cell_type": "markdown",
      "source": [],
      "metadata": {
        "id": "buWyh3tIFUco"
      }
    },
    {
      "cell_type": "code",
      "source": [
        "np.ones((7,5))"
      ],
      "metadata": {
        "colab": {
          "base_uri": "https://localhost:8080/"
        },
        "id": "Mi4c4EI-E9ZK",
        "outputId": "f3606671-d7cb-45ec-e1c8-427606d15c49"
      },
      "execution_count": 17,
      "outputs": [
        {
          "output_type": "execute_result",
          "data": {
            "text/plain": [
              "array([[1., 1., 1., 1., 1.],\n",
              "       [1., 1., 1., 1., 1.],\n",
              "       [1., 1., 1., 1., 1.],\n",
              "       [1., 1., 1., 1., 1.],\n",
              "       [1., 1., 1., 1., 1.],\n",
              "       [1., 1., 1., 1., 1.],\n",
              "       [1., 1., 1., 1., 1.]])"
            ]
          },
          "metadata": {},
          "execution_count": 17
        }
      ]
    },
    {
      "cell_type": "markdown",
      "source": [
        "# full function\n",
        "\n",
        "If we want to Generate value not zero and one . Then we use full function"
      ],
      "metadata": {
        "id": "jdJ8cO-sFoKo"
      }
    },
    {
      "cell_type": "code",
      "source": [
        "fullFunction = np.full(5,15)  # 5 টা col আর ১৫ ভ্যালু সেট হবে\n",
        "fullFunction"
      ],
      "metadata": {
        "colab": {
          "base_uri": "https://localhost:8080/"
        },
        "id": "xFsV0dHOF7Rz",
        "outputId": "716c5424-5437-4464-f09e-c81e6466cb7d"
      },
      "execution_count": 18,
      "outputs": [
        {
          "output_type": "execute_result",
          "data": {
            "text/plain": [
              "array([15, 15, 15, 15, 15])"
            ]
          },
          "metadata": {},
          "execution_count": 18
        }
      ]
    },
    {
      "cell_type": "code",
      "source": [
        "full_Function = np.full((2,5) , 11)\n",
        "full_Function"
      ],
      "metadata": {
        "colab": {
          "base_uri": "https://localhost:8080/"
        },
        "id": "JoXJACybGFx7",
        "outputId": "29bdcb90-3d90-4555-a06a-e2b6d2bc8032"
      },
      "execution_count": 19,
      "outputs": [
        {
          "output_type": "execute_result",
          "data": {
            "text/plain": [
              "array([[11, 11, 11, 11, 11],\n",
              "       [11, 11, 11, 11, 11]])"
            ]
          },
          "metadata": {},
          "execution_count": 19
        }
      ]
    },
    {
      "cell_type": "markdown",
      "source": [
        "# Identity Function\n",
        "\n",
        "Here diagonally value one হবে ।"
      ],
      "metadata": {
        "id": "tRKmOqBSG4Bz"
      }
    },
    {
      "cell_type": "code",
      "source": [
        "np.eye(5,4)"
      ],
      "metadata": {
        "colab": {
          "base_uri": "https://localhost:8080/"
        },
        "id": "wKlxhQNaG65p",
        "outputId": "279ccc64-e0e2-467b-b6c3-454e7b575c49"
      },
      "execution_count": 20,
      "outputs": [
        {
          "output_type": "execute_result",
          "data": {
            "text/plain": [
              "array([[1., 0., 0., 0.],\n",
              "       [0., 1., 0., 0.],\n",
              "       [0., 0., 1., 0.],\n",
              "       [0., 0., 0., 1.],\n",
              "       [0., 0., 0., 0.]])"
            ]
          },
          "metadata": {},
          "execution_count": 20
        }
      ]
    },
    {
      "cell_type": "markdown",
      "source": [
        "#  Linspace function\n",
        "\n",
        "\n"
      ],
      "metadata": {
        "id": "KMfR4LiOHNgR"
      }
    },
    {
      "cell_type": "code",
      "source": [
        "np.linspace(1,10,3)\n",
        "# মানে ১ থেকে ১০ পর্যন্ত ভ্যালু আসবে কিন্তু ৩ টা আর টাদের মধ্যে distance সমান হবে"
      ],
      "metadata": {
        "colab": {
          "base_uri": "https://localhost:8080/"
        },
        "id": "Gi5aLtKgHdlp",
        "outputId": "c3e8c4cc-497f-4bbc-80dd-bfbd38de7b21"
      },
      "execution_count": 21,
      "outputs": [
        {
          "output_type": "execute_result",
          "data": {
            "text/plain": [
              "array([ 1. ,  5.5, 10. ])"
            ]
          },
          "metadata": {},
          "execution_count": 21
        }
      ]
    },
    {
      "cell_type": "code",
      "source": [
        "np.linspace(1,10,5)"
      ],
      "metadata": {
        "colab": {
          "base_uri": "https://localhost:8080/"
        },
        "id": "vfbKgfszHyjI",
        "outputId": "61ad53b8-42bf-4d6d-ed72-3a959dd8dd12"
      },
      "execution_count": 22,
      "outputs": [
        {
          "output_type": "execute_result",
          "data": {
            "text/plain": [
              "array([ 1.  ,  3.25,  5.5 ,  7.75, 10.  ])"
            ]
          },
          "metadata": {},
          "execution_count": 22
        }
      ]
    },
    {
      "cell_type": "markdown",
      "source": [
        "# Random Function\n",
        "\n",
        "> random.rand() function দিয়ে ১ থেকে ০ এর মধ্যে ভ্যালু আসবে its concept of normalisation .\n",
        "\n",
        "> random.randn() function দিয়ে -৩ থেকে ৩ পর্যন্ত value  আসবে\n",
        "\n",
        "\n",
        "> random.randint() function দিয়ে যে given value generate হবে।\n",
        "\n",
        "> random.randint((startingValue , EndingValueValue) , howmanyValueGenerate)\n",
        "\n"
      ],
      "metadata": {
        "id": "SlT0bG3IH5At"
      }
    },
    {
      "cell_type": "code",
      "source": [
        "np.random.rand(10)"
      ],
      "metadata": {
        "colab": {
          "base_uri": "https://localhost:8080/"
        },
        "id": "ODGwwB73H9T9",
        "outputId": "34bf482c-979f-4691-c90b-b87efeb442d9"
      },
      "execution_count": 23,
      "outputs": [
        {
          "output_type": "execute_result",
          "data": {
            "text/plain": [
              "array([0.01899408, 0.73900382, 0.79744796, 0.4686953 , 0.66891449,\n",
              "       0.53118253, 0.8139061 , 0.98435979, 0.12181214, 0.62586206])"
            ]
          },
          "metadata": {},
          "execution_count": 23
        }
      ]
    },
    {
      "cell_type": "code",
      "source": [
        "np.random.randn(20) # -3 theke 3 পর্যন্ত ভ্যালু আসবে।"
      ],
      "metadata": {
        "colab": {
          "base_uri": "https://localhost:8080/"
        },
        "id": "84si7I2jJcpA",
        "outputId": "5a7c81e4-2719-473b-ffa6-2ab364e8abc7"
      },
      "execution_count": 24,
      "outputs": [
        {
          "output_type": "execute_result",
          "data": {
            "text/plain": [
              "array([-0.48472667,  0.42232115,  0.90536699,  1.35482909,  0.21978509,\n",
              "        0.43366978,  1.17853113,  0.52486536, -0.02063464,  0.48082551,\n",
              "        1.77463754,  1.07809249, -0.04748575,  1.17025808, -1.00218281,\n",
              "       -0.97573437, -1.44058466,  1.93339223,  0.27029508,  0.30860118])"
            ]
          },
          "metadata": {},
          "execution_count": 24
        }
      ]
    },
    {
      "cell_type": "code",
      "source": [
        "np.random.randint(5)"
      ],
      "metadata": {
        "colab": {
          "base_uri": "https://localhost:8080/"
        },
        "id": "KZpxl018Jqdr",
        "outputId": "1cae1bca-5ca9-4eec-c0ce-3826cc47e421"
      },
      "execution_count": 25,
      "outputs": [
        {
          "output_type": "execute_result",
          "data": {
            "text/plain": [
              "2"
            ]
          },
          "metadata": {},
          "execution_count": 25
        }
      ]
    },
    {
      "cell_type": "code",
      "source": [
        "np.random.randint(2,10 ,20)"
      ],
      "metadata": {
        "colab": {
          "base_uri": "https://localhost:8080/"
        },
        "id": "im3zRvp3J09y",
        "outputId": "5f368017-c584-4deb-d346-bd874a4b8d4d"
      },
      "execution_count": 26,
      "outputs": [
        {
          "output_type": "execute_result",
          "data": {
            "text/plain": [
              "array([7, 5, 5, 3, 5, 9, 3, 7, 8, 9, 9, 3, 2, 2, 7, 5, 9, 6, 2, 8])"
            ]
          },
          "metadata": {},
          "execution_count": 26
        }
      ]
    },
    {
      "cell_type": "markdown",
      "source": [
        "# Array Atribute\n"
      ],
      "metadata": {
        "id": "kDzabCq2KGFW"
      }
    },
    {
      "cell_type": "code",
      "source": [
        "ar = np.array([[2,341,12] , [1,20,52] , [192,555,121]])\n",
        "ar"
      ],
      "metadata": {
        "colab": {
          "base_uri": "https://localhost:8080/"
        },
        "id": "p7CK4mnfKT7j",
        "outputId": "99245d65-23d0-4916-ec9f-28b2131bed45"
      },
      "execution_count": 27,
      "outputs": [
        {
          "output_type": "execute_result",
          "data": {
            "text/plain": [
              "array([[  2, 341,  12],\n",
              "       [  1,  20,  52],\n",
              "       [192, 555, 121]])"
            ]
          },
          "metadata": {},
          "execution_count": 27
        }
      ]
    },
    {
      "cell_type": "code",
      "source": [
        "ar.size"
      ],
      "metadata": {
        "colab": {
          "base_uri": "https://localhost:8080/"
        },
        "id": "cipr0dS4KyOn",
        "outputId": "78b92d96-9f2b-4d6e-bdf5-e27782a5f1d7"
      },
      "execution_count": 28,
      "outputs": [
        {
          "output_type": "execute_result",
          "data": {
            "text/plain": [
              "9"
            ]
          },
          "metadata": {},
          "execution_count": 28
        }
      ]
    },
    {
      "cell_type": "code",
      "source": [
        "ar.ndim # 2 dimentional show করবে।"
      ],
      "metadata": {
        "colab": {
          "base_uri": "https://localhost:8080/"
        },
        "id": "AW7H7FArK3cJ",
        "outputId": "76118a13-f942-49cf-abdd-76862b3fb58e"
      },
      "execution_count": 29,
      "outputs": [
        {
          "output_type": "execute_result",
          "data": {
            "text/plain": [
              "2"
            ]
          },
          "metadata": {},
          "execution_count": 29
        }
      ]
    },
    {
      "cell_type": "code",
      "source": [
        "ar.shape"
      ],
      "metadata": {
        "colab": {
          "base_uri": "https://localhost:8080/"
        },
        "id": "-Gv-FCK4K_Ds",
        "outputId": "ed34089b-f505-42c7-eb96-ab3dda03227f"
      },
      "execution_count": 30,
      "outputs": [
        {
          "output_type": "execute_result",
          "data": {
            "text/plain": [
              "(3, 3)"
            ]
          },
          "metadata": {},
          "execution_count": 30
        }
      ]
    },
    {
      "cell_type": "code",
      "source": [
        "ar.dtype # datatype dekha jabe"
      ],
      "metadata": {
        "colab": {
          "base_uri": "https://localhost:8080/"
        },
        "id": "mOoZldZaLXFP",
        "outputId": "ff22bf0c-fe8e-436c-a1ba-94b60eb85e48"
      },
      "execution_count": 31,
      "outputs": [
        {
          "output_type": "execute_result",
          "data": {
            "text/plain": [
              "dtype('int64')"
            ]
          },
          "metadata": {},
          "execution_count": 31
        }
      ]
    },
    {
      "cell_type": "code",
      "source": [],
      "metadata": {
        "id": "nTAhzPsHLdg7"
      },
      "execution_count": 31,
      "outputs": []
    },
    {
      "cell_type": "markdown",
      "source": [
        "# Data type change\n",
        "\n"
      ],
      "metadata": {
        "id": "8xAXOMPgLunZ"
      }
    },
    {
      "cell_type": "code",
      "source": [
        "arr = np.array([[23.21,52.10,2.2],[3.3,1.1,5.2]])\n",
        "arr"
      ],
      "metadata": {
        "colab": {
          "base_uri": "https://localhost:8080/"
        },
        "id": "daa5KVwMMAC0",
        "outputId": "6fdd48f7-730b-466a-e69a-444632c8b2ff"
      },
      "execution_count": 32,
      "outputs": [
        {
          "output_type": "execute_result",
          "data": {
            "text/plain": [
              "array([[23.21, 52.1 ,  2.2 ],\n",
              "       [ 3.3 ,  1.1 ,  5.2 ]])"
            ]
          },
          "metadata": {},
          "execution_count": 32
        }
      ]
    },
    {
      "cell_type": "code",
      "source": [
        "arr = arr.astype(int)\n",
        "arr"
      ],
      "metadata": {
        "colab": {
          "base_uri": "https://localhost:8080/"
        },
        "id": "co2b7DuqMFY_",
        "outputId": "b97f174b-1768-4aed-a16f-877e6fa07137"
      },
      "execution_count": 33,
      "outputs": [
        {
          "output_type": "execute_result",
          "data": {
            "text/plain": [
              "array([[23, 52,  2],\n",
              "       [ 3,  1,  5]])"
            ]
          },
          "metadata": {},
          "execution_count": 33
        }
      ]
    },
    {
      "cell_type": "code",
      "source": [],
      "metadata": {
        "id": "XHsqSDXNMLSV"
      },
      "execution_count": 33,
      "outputs": []
    },
    {
      "cell_type": "markdown",
      "source": [
        "# Array Method"
      ],
      "metadata": {
        "id": "ho9npiwYMNBk"
      }
    },
    {
      "cell_type": "code",
      "source": [
        "ar = np.arange(1,10)\n",
        "ar"
      ],
      "metadata": {
        "colab": {
          "base_uri": "https://localhost:8080/"
        },
        "id": "zq5SxI8jMQcC",
        "outputId": "3c31e9e3-9296-4ab6-86da-f058a9115a8c"
      },
      "execution_count": 34,
      "outputs": [
        {
          "output_type": "execute_result",
          "data": {
            "text/plain": [
              "array([1, 2, 3, 4, 5, 6, 7, 8, 9])"
            ]
          },
          "metadata": {},
          "execution_count": 34
        }
      ]
    },
    {
      "cell_type": "code",
      "source": [
        "ar.max()"
      ],
      "metadata": {
        "colab": {
          "base_uri": "https://localhost:8080/"
        },
        "id": "PVIS5v8GMaxg",
        "outputId": "33d67f58-ccfe-45b5-fe21-6246c6876728"
      },
      "execution_count": 35,
      "outputs": [
        {
          "output_type": "execute_result",
          "data": {
            "text/plain": [
              "np.int64(9)"
            ]
          },
          "metadata": {},
          "execution_count": 35
        }
      ]
    },
    {
      "cell_type": "code",
      "source": [
        "ar.min()"
      ],
      "metadata": {
        "colab": {
          "base_uri": "https://localhost:8080/"
        },
        "id": "TQ6bju2hMgx3",
        "outputId": "971b56b1-c2d1-4107-b4c1-55747b0d85f7"
      },
      "execution_count": 36,
      "outputs": [
        {
          "output_type": "execute_result",
          "data": {
            "text/plain": [
              "np.int64(1)"
            ]
          },
          "metadata": {},
          "execution_count": 36
        }
      ]
    },
    {
      "cell_type": "code",
      "source": [
        "ar.sum()"
      ],
      "metadata": {
        "colab": {
          "base_uri": "https://localhost:8080/"
        },
        "id": "C4GzjqAsMi6V",
        "outputId": "5c36abed-dd17-4e2d-f223-1f7735149c6b"
      },
      "execution_count": 37,
      "outputs": [
        {
          "output_type": "execute_result",
          "data": {
            "text/plain": [
              "np.int64(45)"
            ]
          },
          "metadata": {},
          "execution_count": 37
        }
      ]
    },
    {
      "cell_type": "code",
      "source": [
        "ar.mean()"
      ],
      "metadata": {
        "colab": {
          "base_uri": "https://localhost:8080/"
        },
        "id": "s3xAdwWXMlPQ",
        "outputId": "6054783f-50eb-4c70-d1b9-aa4c90cf5824"
      },
      "execution_count": 38,
      "outputs": [
        {
          "output_type": "execute_result",
          "data": {
            "text/plain": [
              "np.float64(5.0)"
            ]
          },
          "metadata": {},
          "execution_count": 38
        }
      ]
    },
    {
      "cell_type": "code",
      "source": [
        "ar.argmax() # maximum element এর index"
      ],
      "metadata": {
        "colab": {
          "base_uri": "https://localhost:8080/"
        },
        "id": "9ZP84CLAMuW4",
        "outputId": "4cebf879-46df-4ae1-8c67-2bca966f00dc"
      },
      "execution_count": 39,
      "outputs": [
        {
          "output_type": "execute_result",
          "data": {
            "text/plain": [
              "np.int64(8)"
            ]
          },
          "metadata": {},
          "execution_count": 39
        }
      ]
    },
    {
      "cell_type": "code",
      "source": [
        "ar.argmin() # minimum element এর ইনডেক্স"
      ],
      "metadata": {
        "colab": {
          "base_uri": "https://localhost:8080/"
        },
        "id": "oyIaTnvjMyc2",
        "outputId": "f9d243a0-310b-49b3-b49a-82ffc3c079eb"
      },
      "execution_count": 40,
      "outputs": [
        {
          "output_type": "execute_result",
          "data": {
            "text/plain": [
              "np.int64(0)"
            ]
          },
          "metadata": {},
          "execution_count": 40
        }
      ]
    },
    {
      "cell_type": "markdown",
      "source": [
        "# column wise & Row Wise  Sum & Reshape & Resizing\n",
        "\n",
        "> np.sum(arr, axis = 0 ) its provide column wise elements total sum\n",
        "\n",
        "> np.sum(arr, axis = 1 ) it’s provide row wise elements total sum .\n"
      ],
      "metadata": {
        "id": "3CujHWD2NkzB"
      }
    },
    {
      "cell_type": "code",
      "source": [
        "ar = np.random.randint(10,30,30)\n",
        "ar"
      ],
      "metadata": {
        "colab": {
          "base_uri": "https://localhost:8080/"
        },
        "id": "bnIS4KZcNp0G",
        "outputId": "5446336c-4b8e-428e-b873-850ace3fee42"
      },
      "execution_count": 41,
      "outputs": [
        {
          "output_type": "execute_result",
          "data": {
            "text/plain": [
              "array([20, 28, 12, 11, 12, 27, 27, 28, 12, 26, 15, 10, 18, 18, 13, 18, 26,\n",
              "       14, 20, 11, 13, 22, 18, 21, 26, 16, 11, 24, 27, 10])"
            ]
          },
          "metadata": {},
          "execution_count": 41
        }
      ]
    },
    {
      "cell_type": "code",
      "source": [
        "ar.reshape(5,6) # reshape kora hoyeche\n",
        "ar = ar.reshape(5,6) # Resizing  (save করলে Resizing করা  হয় )"
      ],
      "metadata": {
        "id": "DniC50PcO3uq"
      },
      "execution_count": 42,
      "outputs": []
    },
    {
      "cell_type": "code",
      "source": [
        "np.sum(ar, axis = 0) # column wise sum"
      ],
      "metadata": {
        "colab": {
          "base_uri": "https://localhost:8080/"
        },
        "id": "ZSS0s_ASUk5z",
        "outputId": "c28a8daf-c04c-46af-f720-a6a745674f14"
      },
      "execution_count": 43,
      "outputs": [
        {
          "output_type": "execute_result",
          "data": {
            "text/plain": [
              "array([111, 101,  61, 101,  98,  82])"
            ]
          },
          "metadata": {},
          "execution_count": 43
        }
      ]
    },
    {
      "cell_type": "code",
      "source": [
        "np.sum(ar, axis = 1 ) # row wise sum"
      ],
      "metadata": {
        "colab": {
          "base_uri": "https://localhost:8080/"
        },
        "id": "XPd1CVBMVLFV",
        "outputId": "d736026e-2294-40cb-c88b-8e376980beae"
      },
      "execution_count": 44,
      "outputs": [
        {
          "output_type": "execute_result",
          "data": {
            "text/plain": [
              "array([110, 118, 107, 105, 114])"
            ]
          },
          "metadata": {},
          "execution_count": 44
        }
      ]
    },
    {
      "cell_type": "markdown",
      "source": [
        "# Ravel & flaten\n",
        "\n",
        "ravel copy -\n",
        "flaten"
      ],
      "metadata": {
        "id": "wX_vsEWvVUTt"
      }
    },
    {
      "cell_type": "code",
      "source": [
        "a = np.array([[2,3] , [4,2]])"
      ],
      "metadata": {
        "id": "QgTSfv0iVgKw"
      },
      "execution_count": 45,
      "outputs": []
    },
    {
      "cell_type": "code",
      "source": [
        "a"
      ],
      "metadata": {
        "colab": {
          "base_uri": "https://localhost:8080/"
        },
        "id": "FCshIcEJVxWy",
        "outputId": "01b5de3d-4386-4790-860a-61e1e84ef800"
      },
      "execution_count": 46,
      "outputs": [
        {
          "output_type": "execute_result",
          "data": {
            "text/plain": [
              "array([[2, 3],\n",
              "       [4, 2]])"
            ]
          },
          "metadata": {},
          "execution_count": 46
        }
      ]
    },
    {
      "cell_type": "code",
      "source": [
        "b = a.ravel()\n",
        "b[0] = 10"
      ],
      "metadata": {
        "id": "7X0xv13DVzK6"
      },
      "execution_count": 47,
      "outputs": []
    },
    {
      "cell_type": "code",
      "source": [
        "a # ei je ekhane a er man o change hoye jabe\n"
      ],
      "metadata": {
        "colab": {
          "base_uri": "https://localhost:8080/"
        },
        "id": "xex9pLlQWFdv",
        "outputId": "f83a9733-9cdc-4ac1-8890-5ea23518e943"
      },
      "execution_count": 48,
      "outputs": [
        {
          "output_type": "execute_result",
          "data": {
            "text/plain": [
              "array([[10,  3],\n",
              "       [ 4,  2]])"
            ]
          },
          "metadata": {},
          "execution_count": 48
        }
      ]
    },
    {
      "cell_type": "code",
      "source": [
        "b"
      ],
      "metadata": {
        "colab": {
          "base_uri": "https://localhost:8080/"
        },
        "id": "9zuiet1-WakC",
        "outputId": "67822041-0386-4a5c-abc3-558ffb0a4a71"
      },
      "execution_count": 49,
      "outputs": [
        {
          "output_type": "execute_result",
          "data": {
            "text/plain": [
              "array([10,  3,  4,  2])"
            ]
          },
          "metadata": {},
          "execution_count": 49
        }
      ]
    },
    {
      "cell_type": "code",
      "source": [
        "b = a.flatten()\n",
        "b[0] = 2203"
      ],
      "metadata": {
        "id": "Y1cN60m7WdGi"
      },
      "execution_count": 50,
      "outputs": []
    },
    {
      "cell_type": "code",
      "source": [
        "b"
      ],
      "metadata": {
        "colab": {
          "base_uri": "https://localhost:8080/"
        },
        "id": "B4vWrouGWlRS",
        "outputId": "0d00f57c-c2f6-474e-f199-a1c3b33a6ade"
      },
      "execution_count": 51,
      "outputs": [
        {
          "output_type": "execute_result",
          "data": {
            "text/plain": [
              "array([2203,    3,    4,    2])"
            ]
          },
          "metadata": {},
          "execution_count": 51
        }
      ]
    },
    {
      "cell_type": "code",
      "source": [
        "a"
      ],
      "metadata": {
        "colab": {
          "base_uri": "https://localhost:8080/"
        },
        "id": "9qVA7L0SWpP6",
        "outputId": "3b17900d-c89b-4253-b69e-81324a079fce"
      },
      "execution_count": 52,
      "outputs": [
        {
          "output_type": "execute_result",
          "data": {
            "text/plain": [
              "array([[10,  3],\n",
              "       [ 4,  2]])"
            ]
          },
          "metadata": {},
          "execution_count": 52
        }
      ]
    },
    {
      "cell_type": "markdown",
      "source": [
        "# Array Indexing &  Slicing\n",
        "\n",
        "\n",
        "\n",
        "\n",
        "> ###### Array indexing এর মধ্যে দুইটা জিনিস থাকে একটা positive indexing & negative  Indexing .\n",
        "\n",
        "> ###### Positive Indexing -> left to right value access করতে চাইলে।\n",
        "\n",
        "> ###### Negative Indexing —> Right To Left value Access করতে চাইলে। Last element  দেখতে চাইলে -1 দিতে হবে।\n"
      ],
      "metadata": {
        "id": "rxRw33udW10v"
      }
    },
    {
      "cell_type": "code",
      "source": [
        "a[0]"
      ],
      "metadata": {
        "colab": {
          "base_uri": "https://localhost:8080/"
        },
        "id": "QVSdholJW5I4",
        "outputId": "3f1654a5-e801-476e-8fe6-f88e57af4fe8"
      },
      "execution_count": 53,
      "outputs": [
        {
          "output_type": "execute_result",
          "data": {
            "text/plain": [
              "array([10,  3])"
            ]
          },
          "metadata": {},
          "execution_count": 53
        }
      ]
    },
    {
      "cell_type": "code",
      "source": [
        "aa = np.arange(11,32)\n",
        "aa"
      ],
      "metadata": {
        "colab": {
          "base_uri": "https://localhost:8080/"
        },
        "id": "pvhU_ruZXagJ",
        "outputId": "91ccd29a-8e2a-476d-e1d0-499323e90e0c"
      },
      "execution_count": 54,
      "outputs": [
        {
          "output_type": "execute_result",
          "data": {
            "text/plain": [
              "array([11, 12, 13, 14, 15, 16, 17, 18, 19, 20, 21, 22, 23, 24, 25, 26, 27,\n",
              "       28, 29, 30, 31])"
            ]
          },
          "metadata": {},
          "execution_count": 54
        }
      ]
    },
    {
      "cell_type": "code",
      "source": [
        "aa[1:5]"
      ],
      "metadata": {
        "colab": {
          "base_uri": "https://localhost:8080/"
        },
        "id": "8HssqhTCXiVF",
        "outputId": "98ed8014-654f-4023-d73d-2e8e26be69d8"
      },
      "execution_count": 55,
      "outputs": [
        {
          "output_type": "execute_result",
          "data": {
            "text/plain": [
              "array([12, 13, 14, 15])"
            ]
          },
          "metadata": {},
          "execution_count": 55
        }
      ]
    },
    {
      "cell_type": "code",
      "source": [
        "aa[:10]"
      ],
      "metadata": {
        "colab": {
          "base_uri": "https://localhost:8080/"
        },
        "id": "giK0PpcJXnzp",
        "outputId": "789856ee-85b9-4900-fe9c-7b1f8d13bed0"
      },
      "execution_count": 56,
      "outputs": [
        {
          "output_type": "execute_result",
          "data": {
            "text/plain": [
              "array([11, 12, 13, 14, 15, 16, 17, 18, 19, 20])"
            ]
          },
          "metadata": {},
          "execution_count": 56
        }
      ]
    },
    {
      "cell_type": "code",
      "source": [
        "aa[:]"
      ],
      "metadata": {
        "colab": {
          "base_uri": "https://localhost:8080/"
        },
        "id": "2ZjnFJ-1XrnH",
        "outputId": "39895692-6409-404b-caa5-e7c2204474ca"
      },
      "execution_count": 57,
      "outputs": [
        {
          "output_type": "execute_result",
          "data": {
            "text/plain": [
              "array([11, 12, 13, 14, 15, 16, 17, 18, 19, 20, 21, 22, 23, 24, 25, 26, 27,\n",
              "       28, 29, 30, 31])"
            ]
          },
          "metadata": {},
          "execution_count": 57
        }
      ]
    },
    {
      "cell_type": "code",
      "source": [
        "aa [ 3 : ]"
      ],
      "metadata": {
        "colab": {
          "base_uri": "https://localhost:8080/"
        },
        "id": "Nt9bgbH5Xxss",
        "outputId": "91ab8837-8567-4786-9616-8d25cf0654f4"
      },
      "execution_count": 58,
      "outputs": [
        {
          "output_type": "execute_result",
          "data": {
            "text/plain": [
              "array([14, 15, 16, 17, 18, 19, 20, 21, 22, 23, 24, 25, 26, 27, 28, 29, 30,\n",
              "       31])"
            ]
          },
          "metadata": {},
          "execution_count": 58
        }
      ]
    },
    {
      "cell_type": "code",
      "source": [
        "# যদি ভ্যালু গুলো কয়েক ঘর পর পর পেতে চাই তাহলে ::want এভাবে দিবো ।\n",
        "aa [ 3 : : 2 ]"
      ],
      "metadata": {
        "colab": {
          "base_uri": "https://localhost:8080/"
        },
        "id": "7lect-51YYKL",
        "outputId": "1e15c761-5725-42a4-f229-f210e70caf35"
      },
      "execution_count": 59,
      "outputs": [
        {
          "output_type": "execute_result",
          "data": {
            "text/plain": [
              "array([14, 16, 18, 20, 22, 24, 26, 28, 30])"
            ]
          },
          "metadata": {},
          "execution_count": 59
        }
      ]
    },
    {
      "cell_type": "code",
      "source": [
        "# পিছনের থেকে ভ্যালু আসে।\n",
        "aa [::-1]"
      ],
      "metadata": {
        "colab": {
          "base_uri": "https://localhost:8080/"
        },
        "id": "9JVSfnznYfK2",
        "outputId": "955a016f-26ba-44f1-f43b-761e2dc9d091"
      },
      "execution_count": 60,
      "outputs": [
        {
          "output_type": "execute_result",
          "data": {
            "text/plain": [
              "array([31, 30, 29, 28, 27, 26, 25, 24, 23, 22, 21, 20, 19, 18, 17, 16, 15,\n",
              "       14, 13, 12, 11])"
            ]
          },
          "metadata": {},
          "execution_count": 60
        }
      ]
    },
    {
      "cell_type": "markdown",
      "source": [
        "# Fancy Index\n",
        "\n",
        "> একসাথে অনেক গুলো ইনডেক্স জানতে চাইলে\n",
        "\n"
      ],
      "metadata": {
        "id": "XBukltPNYmhS"
      }
    },
    {
      "cell_type": "code",
      "source": [
        "aa [[2,5,10]]"
      ],
      "metadata": {
        "colab": {
          "base_uri": "https://localhost:8080/"
        },
        "id": "_4mz0xj1YsG-",
        "outputId": "3fd8a107-1b84-46d8-a11b-c77c4c3f7a9a"
      },
      "execution_count": 61,
      "outputs": [
        {
          "output_type": "execute_result",
          "data": {
            "text/plain": [
              "array([13, 16, 21])"
            ]
          },
          "metadata": {},
          "execution_count": 61
        }
      ]
    },
    {
      "cell_type": "markdown",
      "source": [
        "# Indexing And Slicing Of Matrix"
      ],
      "metadata": {
        "id": "_KckeDx8bREF"
      }
    },
    {
      "cell_type": "code",
      "source": [
        "ar = np.arange(1,31) . reshape(5,6)\n",
        "ar"
      ],
      "metadata": {
        "colab": {
          "base_uri": "https://localhost:8080/"
        },
        "id": "IyrrF4JmbWXb",
        "outputId": "f161cbff-8fb2-4e7b-f2a1-7bd04c4a411c"
      },
      "execution_count": 62,
      "outputs": [
        {
          "output_type": "execute_result",
          "data": {
            "text/plain": [
              "array([[ 1,  2,  3,  4,  5,  6],\n",
              "       [ 7,  8,  9, 10, 11, 12],\n",
              "       [13, 14, 15, 16, 17, 18],\n",
              "       [19, 20, 21, 22, 23, 24],\n",
              "       [25, 26, 27, 28, 29, 30]])"
            ]
          },
          "metadata": {},
          "execution_count": 62
        }
      ]
    },
    {
      "cell_type": "code",
      "source": [
        "# Find Row (Targeting Row)\n",
        "ar[3]"
      ],
      "metadata": {
        "colab": {
          "base_uri": "https://localhost:8080/"
        },
        "id": "IVxXxxggbcZ2",
        "outputId": "640a4d5b-092f-4507-9b17-fc309cf54fb9"
      },
      "execution_count": 63,
      "outputs": [
        {
          "output_type": "execute_result",
          "data": {
            "text/plain": [
              "array([19, 20, 21, 22, 23, 24])"
            ]
          },
          "metadata": {},
          "execution_count": 63
        }
      ]
    },
    {
      "cell_type": "code",
      "source": [
        "ar[3,5]"
      ],
      "metadata": {
        "colab": {
          "base_uri": "https://localhost:8080/"
        },
        "id": "vlzogYRdbkIq",
        "outputId": "4d4e696f-4c5c-427f-85be-5cd6b005468e"
      },
      "execution_count": 64,
      "outputs": [
        {
          "output_type": "execute_result",
          "data": {
            "text/plain": [
              "np.int64(24)"
            ]
          },
          "metadata": {},
          "execution_count": 64
        }
      ]
    },
    {
      "cell_type": "code",
      "source": [
        "slice = ar [0:3 , 3 : ]\n",
        "slice"
      ],
      "metadata": {
        "colab": {
          "base_uri": "https://localhost:8080/"
        },
        "id": "mLABQRyab9ph",
        "outputId": "26fd8b9f-6a3b-42f7-9c66-68b00c46ffeb"
      },
      "execution_count": 65,
      "outputs": [
        {
          "output_type": "execute_result",
          "data": {
            "text/plain": [
              "array([[ 4,  5,  6],\n",
              "       [10, 11, 12],\n",
              "       [16, 17, 18]])"
            ]
          },
          "metadata": {},
          "execution_count": 65
        }
      ]
    },
    {
      "cell_type": "markdown",
      "source": [
        "# Bool masking"
      ],
      "metadata": {
        "id": "LXuTO9HYcQmz"
      }
    },
    {
      "cell_type": "code",
      "source": [
        "ar = np.random.randint(10,30,30)\n",
        "ar"
      ],
      "metadata": {
        "colab": {
          "base_uri": "https://localhost:8080/"
        },
        "id": "7T6fI3dRyQ7Q",
        "outputId": "a788d733-e845-4511-c26d-9d65c88e487c"
      },
      "execution_count": 66,
      "outputs": [
        {
          "output_type": "execute_result",
          "data": {
            "text/plain": [
              "array([23, 13, 29, 13, 29, 20, 10, 25, 23, 18, 22, 27, 25, 17, 28, 10, 10,\n",
              "       24, 16, 11, 22, 20, 27, 26, 11, 17, 18, 19, 12, 17])"
            ]
          },
          "metadata": {},
          "execution_count": 66
        }
      ]
    },
    {
      "cell_type": "code",
      "source": [
        "boolIndex = ar % 2 == 0\n",
        "boolIndex"
      ],
      "metadata": {
        "colab": {
          "base_uri": "https://localhost:8080/"
        },
        "id": "RWKVUJI7yzbU",
        "outputId": "b1519905-3d8b-4aa7-f8f5-9a33f0e083ee"
      },
      "execution_count": 67,
      "outputs": [
        {
          "output_type": "execute_result",
          "data": {
            "text/plain": [
              "array([False, False, False, False, False,  True,  True, False, False,\n",
              "        True,  True, False, False, False,  True,  True,  True,  True,\n",
              "        True, False,  True,  True, False,  True, False, False,  True,\n",
              "       False,  True, False])"
            ]
          },
          "metadata": {},
          "execution_count": 67
        }
      ]
    },
    {
      "cell_type": "code",
      "source": [
        "evenVal = ar[boolIndex]\n",
        "evenVal"
      ],
      "metadata": {
        "colab": {
          "base_uri": "https://localhost:8080/"
        },
        "id": "_ljakf4Fy4h5",
        "outputId": "f54fa19f-0434-4d4b-83bb-0ee5c86e50d2"
      },
      "execution_count": 68,
      "outputs": [
        {
          "output_type": "execute_result",
          "data": {
            "text/plain": [
              "array([20, 10, 18, 22, 28, 10, 10, 24, 16, 22, 20, 26, 18, 12])"
            ]
          },
          "metadata": {},
          "execution_count": 68
        }
      ]
    },
    {
      "cell_type": "code",
      "source": [],
      "metadata": {
        "id": "cev7echyzT7D"
      },
      "execution_count": 68,
      "outputs": []
    },
    {
      "cell_type": "markdown",
      "source": [
        "# Array Operation\n",
        "\n",
        "\n",
        "> a1 + a2 <br>\n",
        "> a1 - a2 <br>\n",
        "> a1 * a2 <br>\n",
        "> a1 / a2 <br>\n",
        "> a1 ** a2 (power) <br>"
      ],
      "metadata": {
        "id": "tPfLLQySza-p"
      }
    },
    {
      "cell_type": "markdown",
      "source": [
        "# New section"
      ],
      "metadata": {
        "id": "f3n7K8wc0J5B"
      }
    },
    {
      "cell_type": "code",
      "source": [
        "a1 = np.array([1,3,5,7])\n",
        "a2 = np.array([2,4,6,8])\n",
        "\n",
        "a1 + a2"
      ],
      "metadata": {
        "colab": {
          "base_uri": "https://localhost:8080/"
        },
        "id": "fo6Dy5AQzdsk",
        "outputId": "5f3e4e32-9853-4e21-a095-eb94b23c9f4d"
      },
      "execution_count": 69,
      "outputs": [
        {
          "output_type": "execute_result",
          "data": {
            "text/plain": [
              "array([ 3,  7, 11, 15])"
            ]
          },
          "metadata": {},
          "execution_count": 69
        }
      ]
    },
    {
      "cell_type": "code",
      "source": [
        "a1 - a2"
      ],
      "metadata": {
        "colab": {
          "base_uri": "https://localhost:8080/"
        },
        "id": "PcDqM-5kz-G3",
        "outputId": "b1300256-206f-40fb-8a9f-926a1e2fc5d7"
      },
      "execution_count": 70,
      "outputs": [
        {
          "output_type": "execute_result",
          "data": {
            "text/plain": [
              "array([-1, -1, -1, -1])"
            ]
          },
          "metadata": {},
          "execution_count": 70
        }
      ]
    },
    {
      "cell_type": "code",
      "source": [
        "a1 * a2"
      ],
      "metadata": {
        "colab": {
          "base_uri": "https://localhost:8080/"
        },
        "id": "FU10wJn70APB",
        "outputId": "a18b5027-b6c7-4eec-a349-8545c1a65f31"
      },
      "execution_count": 71,
      "outputs": [
        {
          "output_type": "execute_result",
          "data": {
            "text/plain": [
              "array([ 2, 12, 30, 56])"
            ]
          },
          "metadata": {},
          "execution_count": 71
        }
      ]
    },
    {
      "cell_type": "code",
      "source": [
        "a1 ** a2"
      ],
      "metadata": {
        "colab": {
          "base_uri": "https://localhost:8080/"
        },
        "id": "abiQkyOU0B9K",
        "outputId": "1fbfbe60-692d-4c90-b034-90afd59ef635"
      },
      "execution_count": 72,
      "outputs": [
        {
          "output_type": "execute_result",
          "data": {
            "text/plain": [
              "array([      1,      81,   15625, 5764801])"
            ]
          },
          "metadata": {},
          "execution_count": 72
        }
      ]
    },
    {
      "cell_type": "markdown",
      "source": [
        "# BroadCasting\n",
        "\n",
        "\n",
        "Broadcasting 3 rule :\n",
        "\t1. Matching Dimension  ( [1,2,5] + [3,4,5] = [4 , 6 , 10] <br>\n",
        "\t2. Expanding Single Element ( [1,2,3] + 10 = [11 ,12 , 13 ]<br>\n",
        "\t3. Incompatible Shape(shape match না করলে numpy error দিয়ে দিবে[১,৩,৫]+[১,৩] error)\n"
      ],
      "metadata": {
        "id": "1ZDfKRE_UioC"
      }
    },
    {
      "cell_type": "code",
      "source": [
        "a1 + 10"
      ],
      "metadata": {
        "colab": {
          "base_uri": "https://localhost:8080/"
        },
        "id": "nQTHDVea0Ut9",
        "outputId": "05a128fa-5bc2-418e-86c5-db6d8219759c"
      },
      "execution_count": 73,
      "outputs": [
        {
          "output_type": "execute_result",
          "data": {
            "text/plain": [
              "array([11, 13, 15, 17])"
            ]
          },
          "metadata": {},
          "execution_count": 73
        }
      ]
    },
    {
      "cell_type": "markdown",
      "source": [
        "# Deep copy আর shallow  copy\n",
        "\n",
        "Deep copy হত list এর মধ্যে যেখানে আমরা slice করে broadcasting / arithmetic operation করতাম তখন main list এ  change হয়ে যেত ।  <br><br>\n",
        "But array এর মধ্যে হচ্ছে shallow copy এখানে আমরা slice করে নিলে আর সেখানে পরিবর্তন করলে আমাদের main array এর মধ্যে পরিবর্তন হবে না ।\n",
        "\n",
        "\n",
        "Deep copy আর shallow  copy  <br>\n",
        "\n",
        "Deep copy হত list এর মধ্যে যেখানে আমরা slice করে broadcasting / arithmetic operation করতাম তখন main list এ  change হয়ে যেত । <br> <br><br>\n",
        "But array এর মধ্যে হচ্ছে shallow copy এখানে আমরা slice করে নিলে আর সেখানে পরিবর্তন করলে আমাদের main array এর মধ্যে পরিবর্তন হবে না ।\n",
        "\n",
        "\n"
      ],
      "metadata": {
        "id": "SHBYH8kA0d2V"
      }
    },
    {
      "cell_type": "code",
      "source": [
        "a = np.arange(1,31)\n",
        "a"
      ],
      "metadata": {
        "colab": {
          "base_uri": "https://localhost:8080/"
        },
        "id": "fJ6-vQPh2Od3",
        "outputId": "904f2f33-3456-4a84-fffc-6a2bc09249ac"
      },
      "execution_count": 74,
      "outputs": [
        {
          "output_type": "execute_result",
          "data": {
            "text/plain": [
              "array([ 1,  2,  3,  4,  5,  6,  7,  8,  9, 10, 11, 12, 13, 14, 15, 16, 17,\n",
              "       18, 19, 20, 21, 22, 23, 24, 25, 26, 27, 28, 29, 30])"
            ]
          },
          "metadata": {},
          "execution_count": 74
        }
      ]
    },
    {
      "cell_type": "code",
      "source": [
        "slice = a[:5] * 2\n",
        "slice"
      ],
      "metadata": {
        "colab": {
          "base_uri": "https://localhost:8080/"
        },
        "id": "p5EeA5HN2WrX",
        "outputId": "54575cf1-7149-4259-edc2-05e83e6ccd0c"
      },
      "execution_count": 75,
      "outputs": [
        {
          "output_type": "execute_result",
          "data": {
            "text/plain": [
              "array([ 2,  4,  6,  8, 10])"
            ]
          },
          "metadata": {},
          "execution_count": 75
        }
      ]
    },
    {
      "cell_type": "code",
      "source": [
        "a # ei je slice kore slice array te change koresi kintu main array te change hoy nai\n"
      ],
      "metadata": {
        "colab": {
          "base_uri": "https://localhost:8080/"
        },
        "id": "wucnyLCO2iIM",
        "outputId": "5abd0826-de49-420d-c2a5-f20008bae5b2"
      },
      "execution_count": 76,
      "outputs": [
        {
          "output_type": "execute_result",
          "data": {
            "text/plain": [
              "array([ 1,  2,  3,  4,  5,  6,  7,  8,  9, 10, 11, 12, 13, 14, 15, 16, 17,\n",
              "       18, 19, 20, 21, 22, 23, 24, 25, 26, 27, 28, 29, 30])"
            ]
          },
          "metadata": {},
          "execution_count": 76
        }
      ]
    },
    {
      "cell_type": "code",
      "source": [
        "b = a\n",
        "b"
      ],
      "metadata": {
        "colab": {
          "base_uri": "https://localhost:8080/"
        },
        "id": "XVTseXm52pTF",
        "outputId": "c6fe5e6d-d8a2-4dbc-b782-c1454a7f2256"
      },
      "execution_count": 77,
      "outputs": [
        {
          "output_type": "execute_result",
          "data": {
            "text/plain": [
              "array([ 1,  2,  3,  4,  5,  6,  7,  8,  9, 10, 11, 12, 13, 14, 15, 16, 17,\n",
              "       18, 19, 20, 21, 22, 23, 24, 25, 26, 27, 28, 29, 30])"
            ]
          },
          "metadata": {},
          "execution_count": 77
        }
      ]
    },
    {
      "cell_type": "code",
      "source": [
        "b[0] = 22\n",
        "b"
      ],
      "metadata": {
        "colab": {
          "base_uri": "https://localhost:8080/"
        },
        "id": "LiiLE5GT5Odv",
        "outputId": "832364aa-6270-461a-8cfc-b013a6951942"
      },
      "execution_count": 78,
      "outputs": [
        {
          "output_type": "execute_result",
          "data": {
            "text/plain": [
              "array([22,  2,  3,  4,  5,  6,  7,  8,  9, 10, 11, 12, 13, 14, 15, 16, 17,\n",
              "       18, 19, 20, 21, 22, 23, 24, 25, 26, 27, 28, 29, 30])"
            ]
          },
          "metadata": {},
          "execution_count": 78
        }
      ]
    },
    {
      "cell_type": "code",
      "source": [
        "a # ei je ekhane deep copy hoye giyeche\n",
        "# jodi shalow copy kori tahole .copy() functiond diye dibo"
      ],
      "metadata": {
        "colab": {
          "base_uri": "https://localhost:8080/"
        },
        "id": "pmHJIY1c5RK7",
        "outputId": "19c92526-254d-442f-e378-c9dd2f2ac0df"
      },
      "execution_count": 79,
      "outputs": [
        {
          "output_type": "execute_result",
          "data": {
            "text/plain": [
              "array([22,  2,  3,  4,  5,  6,  7,  8,  9, 10, 11, 12, 13, 14, 15, 16, 17,\n",
              "       18, 19, 20, 21, 22, 23, 24, 25, 26, 27, 28, 29, 30])"
            ]
          },
          "metadata": {},
          "execution_count": 79
        }
      ]
    },
    {
      "cell_type": "code",
      "source": [
        "b = a.copy()\n",
        "b[0] = 32\n",
        "a"
      ],
      "metadata": {
        "colab": {
          "base_uri": "https://localhost:8080/"
        },
        "id": "wveztrb25ZJ3",
        "outputId": "c1acee8e-31df-4e7c-af33-3c72ea1f88fc"
      },
      "execution_count": 80,
      "outputs": [
        {
          "output_type": "execute_result",
          "data": {
            "text/plain": [
              "array([22,  2,  3,  4,  5,  6,  7,  8,  9, 10, 11, 12, 13, 14, 15, 16, 17,\n",
              "       18, 19, 20, 21, 22, 23, 24, 25, 26, 27, 28, 29, 30])"
            ]
          },
          "metadata": {},
          "execution_count": 80
        }
      ]
    },
    {
      "cell_type": "markdown",
      "source": [
        "# Matrix Operation\n",
        "\n",
        "matrix multiplication a1 @ a2\n"
      ],
      "metadata": {
        "id": "B0OXeuNp6Qfm"
      }
    },
    {
      "cell_type": "markdown",
      "source": [
        "# Array Advance Modification - Splict & Stack\n",
        "\n",
        "\n",
        "\n",
        "We can’t stack two matrix we can stack two array / vector .  <br>\n",
        "> Stack মনে দুইটা array / vector কে জোড়া লাগানো। <br>\n",
        "আমরা stack তিনভাবে  করতে পারি :<br>\n",
        "1. vertical stack -  np.vstack((a,b))\n",
        "2. horizontal stack - np.hstack((a,b))\n",
        "3. column_stack((a,b)) -  np.column_stack((a,b)) <br>\n",
        "\n",
        "\n",
        "\n",
        "Split 2d array তে  থাকে।\n",
        "\n",
        "\n",
        "সমান পার্ট এ করতে হবে split . 3 টা  করতে গেলে error আসবে।"
      ],
      "metadata": {
        "id": "TfUjsNZz6df5"
      }
    },
    {
      "cell_type": "markdown",
      "source": [
        "# Stack"
      ],
      "metadata": {
        "id": "D6_MO_w8-EWn"
      }
    },
    {
      "cell_type": "code",
      "source": [
        "a = np.arange(10,26).reshape(4,4)\n",
        "b = np.arange(30,46).reshape(4,4)\n",
        "a"
      ],
      "metadata": {
        "colab": {
          "base_uri": "https://localhost:8080/"
        },
        "id": "5SgxEn8V6hTG",
        "outputId": "2df91f13-b380-4eb2-db80-5b892ddaffb2"
      },
      "execution_count": 81,
      "outputs": [
        {
          "output_type": "execute_result",
          "data": {
            "text/plain": [
              "array([[10, 11, 12, 13],\n",
              "       [14, 15, 16, 17],\n",
              "       [18, 19, 20, 21],\n",
              "       [22, 23, 24, 25]])"
            ]
          },
          "metadata": {},
          "execution_count": 81
        }
      ]
    },
    {
      "cell_type": "code",
      "source": [
        "b"
      ],
      "metadata": {
        "colab": {
          "base_uri": "https://localhost:8080/"
        },
        "id": "ro7O5ZPN-e5r",
        "outputId": "302771a3-598c-48de-a15b-c6a1ba018c2f"
      },
      "execution_count": 82,
      "outputs": [
        {
          "output_type": "execute_result",
          "data": {
            "text/plain": [
              "array([[30, 31, 32, 33],\n",
              "       [34, 35, 36, 37],\n",
              "       [38, 39, 40, 41],\n",
              "       [42, 43, 44, 45]])"
            ]
          },
          "metadata": {},
          "execution_count": 82
        }
      ]
    },
    {
      "cell_type": "code",
      "source": [
        "np.vstack((a,b))\n",
        "# vertically add hobe .\n",
        "#মানে একটা array  শেষ হলে আরেকটা array  শুরু হবে এভাবে\n",
        "'''\n",
        "a\n",
        "b\n",
        "'''"
      ],
      "metadata": {
        "colab": {
          "base_uri": "https://localhost:8080/",
          "height": 35
        },
        "id": "xe7fe3uI-gDX",
        "outputId": "2e5bcc36-3155-407c-895a-b90edc52c988"
      },
      "execution_count": 83,
      "outputs": [
        {
          "output_type": "execute_result",
          "data": {
            "text/plain": [
              "' \\na\\nb \\n'"
            ],
            "application/vnd.google.colaboratory.intrinsic+json": {
              "type": "string"
            }
          },
          "metadata": {},
          "execution_count": 83
        }
      ]
    },
    {
      "cell_type": "code",
      "source": [
        "np.hstack((a,b))\n",
        "# একটা array শেষ হওয়ার পর আরেকটা array শুরু হবে এভাবে\n",
        "'''\n",
        "a b\n",
        "'''"
      ],
      "metadata": {
        "colab": {
          "base_uri": "https://localhost:8080/",
          "height": 35
        },
        "id": "IzYmoO4e_BOG",
        "outputId": "bc764f67-9def-476a-a4a1-9979d1335fb6"
      },
      "execution_count": 84,
      "outputs": [
        {
          "output_type": "execute_result",
          "data": {
            "text/plain": [
              "' \\na b \\n'"
            ],
            "application/vnd.google.colaboratory.intrinsic+json": {
              "type": "string"
            }
          },
          "metadata": {},
          "execution_count": 84
        }
      ]
    },
    {
      "cell_type": "code",
      "source": [
        "np.column_stack((a,b)) # one kind of hstack এর মতো"
      ],
      "metadata": {
        "colab": {
          "base_uri": "https://localhost:8080/"
        },
        "id": "2oFYnRhQ_VWd",
        "outputId": "91485b8e-73f5-4186-abd0-c23d497cbd03"
      },
      "execution_count": 85,
      "outputs": [
        {
          "output_type": "execute_result",
          "data": {
            "text/plain": [
              "array([[10, 11, 12, 13, 30, 31, 32, 33],\n",
              "       [14, 15, 16, 17, 34, 35, 36, 37],\n",
              "       [18, 19, 20, 21, 38, 39, 40, 41],\n",
              "       [22, 23, 24, 25, 42, 43, 44, 45]])"
            ]
          },
          "metadata": {},
          "execution_count": 85
        }
      ]
    },
    {
      "cell_type": "markdown",
      "source": [
        "# Split"
      ],
      "metadata": {
        "id": "vhdMsjbD_i7g"
      }
    },
    {
      "cell_type": "code",
      "source": [
        "c = np.arange(1,31).reshape(6,5)\n",
        "c"
      ],
      "metadata": {
        "colab": {
          "base_uri": "https://localhost:8080/"
        },
        "id": "r4OkHw6t_lZP",
        "outputId": "7fe9d725-aa3e-4dbf-f805-552123136f34"
      },
      "execution_count": 86,
      "outputs": [
        {
          "output_type": "execute_result",
          "data": {
            "text/plain": [
              "array([[ 1,  2,  3,  4,  5],\n",
              "       [ 6,  7,  8,  9, 10],\n",
              "       [11, 12, 13, 14, 15],\n",
              "       [16, 17, 18, 19, 20],\n",
              "       [21, 22, 23, 24, 25],\n",
              "       [26, 27, 28, 29, 30]])"
            ]
          },
          "metadata": {},
          "execution_count": 86
        }
      ]
    },
    {
      "cell_type": "code",
      "source": [
        "np.hsplit(c,5) # এটা যেহেতু col number odd তাহলে এটা কে আমরা ৫ সমান ভাগে ভাগ করতে পারব না\n"
      ],
      "metadata": {
        "colab": {
          "base_uri": "https://localhost:8080/"
        },
        "id": "xHD65Kft_xd8",
        "outputId": "95b0be7d-a005-46cc-fa12-f75037511225"
      },
      "execution_count": 87,
      "outputs": [
        {
          "output_type": "execute_result",
          "data": {
            "text/plain": [
              "[array([[ 1],\n",
              "        [ 6],\n",
              "        [11],\n",
              "        [16],\n",
              "        [21],\n",
              "        [26]]),\n",
              " array([[ 2],\n",
              "        [ 7],\n",
              "        [12],\n",
              "        [17],\n",
              "        [22],\n",
              "        [27]]),\n",
              " array([[ 3],\n",
              "        [ 8],\n",
              "        [13],\n",
              "        [18],\n",
              "        [23],\n",
              "        [28]]),\n",
              " array([[ 4],\n",
              "        [ 9],\n",
              "        [14],\n",
              "        [19],\n",
              "        [24],\n",
              "        [29]]),\n",
              " array([[ 5],\n",
              "        [10],\n",
              "        [15],\n",
              "        [20],\n",
              "        [25],\n",
              "        [30]])]"
            ]
          },
          "metadata": {},
          "execution_count": 87
        }
      ]
    },
    {
      "cell_type": "code",
      "source": [
        "np.vsplit(c,2)"
      ],
      "metadata": {
        "colab": {
          "base_uri": "https://localhost:8080/"
        },
        "id": "KTG4CBbyAD1-",
        "outputId": "dd3e18b0-6881-4d3f-8421-67ca7e7fc8e4"
      },
      "execution_count": 88,
      "outputs": [
        {
          "output_type": "execute_result",
          "data": {
            "text/plain": [
              "[array([[ 1,  2,  3,  4,  5],\n",
              "        [ 6,  7,  8,  9, 10],\n",
              "        [11, 12, 13, 14, 15]]),\n",
              " array([[16, 17, 18, 19, 20],\n",
              "        [21, 22, 23, 24, 25],\n",
              "        [26, 27, 28, 29, 30]])]"
            ]
          },
          "metadata": {},
          "execution_count": 88
        }
      ]
    },
    {
      "cell_type": "markdown",
      "source": [
        "# Array Insert , Append , Delete\n",
        "\n",
        "- INSERT <br> np.insert(array, index, value)\n",
        "আমরা কোন  array এর মধ্যে নতুন element insert করতে পারি  না কারণ তার সাইজ ফিক্সড থাকে । <br>\n",
        "আমরা যখন insert operation চালাই তখন মেইন array এর কপি তৈরি হয়।\n",
        "\n",
        "- Append <br>\n",
        "Append at the end of the array element add হবে। <br>\n",
        " আর এখানেও নতুন array যেটা create হবে সেটা তে modification করলে  main array তে modification হবে না।\n",
        " - CONCATENATE <br>\n",
        " - Delete <br>\n"
      ],
      "metadata": {
        "id": "cb4Ngfw_A5Ru"
      }
    },
    {
      "cell_type": "code",
      "source": [
        "d = np.arange(10,110 , 10)\n",
        "d"
      ],
      "metadata": {
        "colab": {
          "base_uri": "https://localhost:8080/"
        },
        "id": "dZyB4iNfBuO8",
        "outputId": "7e6c2487-6b6b-4205-8534-fb30d4f25937"
      },
      "execution_count": 89,
      "outputs": [
        {
          "output_type": "execute_result",
          "data": {
            "text/plain": [
              "array([ 10,  20,  30,  40,  50,  60,  70,  80,  90, 100])"
            ]
          },
          "metadata": {},
          "execution_count": 89
        }
      ]
    },
    {
      "cell_type": "code",
      "source": [
        "new_arr = d\n",
        "new_arr = np.insert(new_arr , 2 , 203)\n",
        "d"
      ],
      "metadata": {
        "colab": {
          "base_uri": "https://localhost:8080/"
        },
        "id": "TW6zFUBeB4hi",
        "outputId": "84f54885-37dd-4aa0-f813-4e5c231abc30"
      },
      "execution_count": 90,
      "outputs": [
        {
          "output_type": "execute_result",
          "data": {
            "text/plain": [
              "array([ 10,  20,  30,  40,  50,  60,  70,  80,  90, 100])"
            ]
          },
          "metadata": {},
          "execution_count": 90
        }
      ]
    },
    {
      "cell_type": "code",
      "source": [
        "new_2d = np.arange(10,20).reshape((2,5))\n",
        "NEW_2d = np.arange(10,30).reshape((4,5))\n",
        "# NEW_2d\n",
        "new_2d"
      ],
      "metadata": {
        "colab": {
          "base_uri": "https://localhost:8080/"
        },
        "id": "MNNbD-ASCVjn",
        "outputId": "9d9e6eee-bb71-4296-f054-3f5abea02144"
      },
      "execution_count": 91,
      "outputs": [
        {
          "output_type": "execute_result",
          "data": {
            "text/plain": [
              "array([[10, 11, 12, 13, 14],\n",
              "       [15, 16, 17, 18, 19]])"
            ]
          },
          "metadata": {},
          "execution_count": 91
        }
      ]
    },
    {
      "cell_type": "code",
      "source": [
        "nee = np.insert(new_2d,2,NEW_2d, axis = 0  )\n",
        "nee"
      ],
      "metadata": {
        "colab": {
          "base_uri": "https://localhost:8080/"
        },
        "id": "8o7zBtr3C0hi",
        "outputId": "ca2eecb5-beaf-42af-9459-fdb3c700ed87"
      },
      "execution_count": 92,
      "outputs": [
        {
          "output_type": "execute_result",
          "data": {
            "text/plain": [
              "array([[10, 11, 12, 13, 14],\n",
              "       [15, 16, 17, 18, 19],\n",
              "       [10, 11, 12, 13, 14],\n",
              "       [15, 16, 17, 18, 19],\n",
              "       [20, 21, 22, 23, 24],\n",
              "       [25, 26, 27, 28, 29]])"
            ]
          },
          "metadata": {},
          "execution_count": 92
        }
      ]
    },
    {
      "cell_type": "code",
      "source": [
        "ap = np.append(new_2d , NEW_2d)\n",
        "ap"
      ],
      "metadata": {
        "colab": {
          "base_uri": "https://localhost:8080/"
        },
        "id": "gZc9irppD1qm",
        "outputId": "00722070-185b-42f1-ce89-6e638130d12c"
      },
      "execution_count": 93,
      "outputs": [
        {
          "output_type": "execute_result",
          "data": {
            "text/plain": [
              "array([10, 11, 12, 13, 14, 15, 16, 17, 18, 19, 10, 11, 12, 13, 14, 15, 16,\n",
              "       17, 18, 19, 20, 21, 22, 23, 24, 25, 26, 27, 28, 29])"
            ]
          },
          "metadata": {},
          "execution_count": 93
        }
      ]
    },
    {
      "cell_type": "code",
      "source": [
        "con = np.concatenate((new_2d, NEW_2d) , )\n",
        "con"
      ],
      "metadata": {
        "colab": {
          "base_uri": "https://localhost:8080/"
        },
        "id": "98MrTsC7EC7F",
        "outputId": "588744cd-0947-4ada-eea9-b6de29e3bf3e"
      },
      "execution_count": 94,
      "outputs": [
        {
          "output_type": "execute_result",
          "data": {
            "text/plain": [
              "array([[10, 11, 12, 13, 14],\n",
              "       [15, 16, 17, 18, 19],\n",
              "       [10, 11, 12, 13, 14],\n",
              "       [15, 16, 17, 18, 19],\n",
              "       [20, 21, 22, 23, 24],\n",
              "       [25, 26, 27, 28, 29]])"
            ]
          },
          "metadata": {},
          "execution_count": 94
        }
      ]
    },
    {
      "cell_type": "markdown",
      "source": [
        "# Handling Missing Value\n",
        "\n",
        "> - np.isnan() Detecting Missing\n",
        "this function return true Or false array\n",
        "Value . nan - Not A Number <br>\n",
        "\n",
        "> - np.isinf() Detecting Infinite Value <br>\n",
        "> np.nan_to_num(array, nan = 100 ) default nan value replaced by 0 .\n",
        "> np.nan_to_num(array, posinf = 10 , neginf = -10)\n",
        "\n"
      ],
      "metadata": {
        "id": "860ZsP0XI7Ov"
      }
    },
    {
      "cell_type": "markdown",
      "source": [
        "*italicised text*# New section"
      ],
      "metadata": {
        "id": "gLtbl9t4MJUP"
      }
    },
    {
      "cell_type": "code",
      "source": [
        "nanAr = np.array([1,2,3,np.nan, 4,10, np.nan, 123])\n",
        "nanAr"
      ],
      "metadata": {
        "colab": {
          "base_uri": "https://localhost:8080/"
        },
        "id": "yE2Lm0E0Jspl",
        "outputId": "f3ab3c63-86d7-4428-a2de-85390192b459"
      },
      "execution_count": 95,
      "outputs": [
        {
          "output_type": "execute_result",
          "data": {
            "text/plain": [
              "array([  1.,   2.,   3.,  nan,   4.,  10.,  nan, 123.])"
            ]
          },
          "metadata": {},
          "execution_count": 95
        }
      ]
    },
    {
      "cell_type": "code",
      "source": [
        "# check nan value\n",
        "np.isnan(nanAr)\n",
        "\n",
        "# np.nan == np.nan - We can't compary like this"
      ],
      "metadata": {
        "colab": {
          "base_uri": "https://localhost:8080/"
        },
        "id": "KrpTCHQ7J4NM",
        "outputId": "1dabd165-46a5-4596-9c53-050006db73f2"
      },
      "execution_count": 96,
      "outputs": [
        {
          "output_type": "execute_result",
          "data": {
            "text/plain": [
              "array([False, False, False,  True, False, False,  True, False])"
            ]
          },
          "metadata": {},
          "execution_count": 96
        }
      ]
    },
    {
      "cell_type": "code",
      "source": [
        "infAr = np.array([1,2,3,np.inf, - np.inf , 34,10, np.inf ])\n",
        "infAr"
      ],
      "metadata": {
        "colab": {
          "base_uri": "https://localhost:8080/"
        },
        "id": "7VByfMAaKHPZ",
        "outputId": "bbf96da5-695d-461a-d065-e535caee0121"
      },
      "execution_count": 97,
      "outputs": [
        {
          "output_type": "execute_result",
          "data": {
            "text/plain": [
              "array([  1.,   2.,   3.,  inf, -inf,  34.,  10.,  inf])"
            ]
          },
          "metadata": {},
          "execution_count": 97
        }
      ]
    },
    {
      "cell_type": "code",
      "source": [
        "replaceArr = np.nan_to_num(nanAr , nan = 110)\n",
        "replaceArr"
      ],
      "metadata": {
        "colab": {
          "base_uri": "https://localhost:8080/"
        },
        "id": "JnS8O3iLKR5M",
        "outputId": "ba6d6f45-f40e-44c5-e3be-e4998402cf1e"
      },
      "execution_count": 98,
      "outputs": [
        {
          "output_type": "execute_result",
          "data": {
            "text/plain": [
              "array([  1.,   2.,   3., 110.,   4.,  10., 110., 123.])"
            ]
          },
          "metadata": {},
          "execution_count": 98
        }
      ]
    },
    {
      "cell_type": "code",
      "source": [
        "replaceArrInf = np.nan_to_num(infAr, posinf= 10 , neginf=-10)\n",
        "replaceArrInf"
      ],
      "metadata": {
        "colab": {
          "base_uri": "https://localhost:8080/"
        },
        "id": "EviGardXKf1U",
        "outputId": "ca949504-ae94-46e4-c328-98b9a498629f"
      },
      "execution_count": 99,
      "outputs": [
        {
          "output_type": "execute_result",
          "data": {
            "text/plain": [
              "array([  1.,   2.,   3.,  10., -10.,  34.,  10.,  10.])"
            ]
          },
          "metadata": {},
          "execution_count": 99
        }
      ]
    },
    {
      "cell_type": "code",
      "source": [],
      "metadata": {
        "id": "9fuoPjC1LYGY"
      },
      "execution_count": 99,
      "outputs": []
    },
    {
      "cell_type": "markdown",
      "source": [
        "# Numpy Exercise"
      ],
      "metadata": {
        "id": "iStaLvkgMN1O"
      }
    },
    {
      "cell_type": "code",
      "source": [
        "# Columns: [Age, Math Marks, Science Marks]\n",
        "data = np.array([\n",
        "    [18, 85, 78],   # Student 1\n",
        "    [19, 92, 88],   # Student 2\n",
        "    [17, 76, 95],   # Student 3\n",
        "    [18, 65, 70],   # Student 4\n",
        "    [20, 90, 85]    # Student 5\n",
        "])\n",
        "dataa"
      ],
      "metadata": {
        "colab": {
          "base_uri": "https://localhost:8080/"
        },
        "id": "b3XBrjW2fzBq",
        "outputId": "d1cfacb0-d4d0-4065-857c-62c16cdf0668"
      },
      "execution_count": 103,
      "outputs": [
        {
          "output_type": "execute_result",
          "data": {
            "text/plain": [
              "array([[18, 85, 78],\n",
              "       [19, 92, 88],\n",
              "       [17, 76, 95],\n",
              "       [18, 65, 70],\n",
              "       [20, 90, 85]])"
            ]
          },
          "metadata": {},
          "execution_count": 103
        }
      ]
    },
    {
      "cell_type": "code",
      "source": [
        "#Get the shape of the matrix.\n",
        "data.shape"
      ],
      "metadata": {
        "colab": {
          "base_uri": "https://localhost:8080/"
        },
        "id": "-3peBzRlf2BE",
        "outputId": "92628151-e148-4560-9aff-2d86f0304585"
      },
      "execution_count": 104,
      "outputs": [
        {
          "output_type": "execute_result",
          "data": {
            "text/plain": [
              "(5, 3)"
            ]
          },
          "metadata": {},
          "execution_count": 104
        }
      ]
    },
    {
      "cell_type": "code",
      "source": [
        "# #Find the average age of students.\n",
        "\n",
        "averageAge = data[:, 0].mean()\n",
        "averageAge"
      ],
      "metadata": {
        "colab": {
          "base_uri": "https://localhost:8080/"
        },
        "id": "cv59Zv4zgn36",
        "outputId": "9f662a83-8e71-4dfd-bba0-689c05dcb611"
      },
      "execution_count": 106,
      "outputs": [
        {
          "output_type": "execute_result",
          "data": {
            "text/plain": [
              "np.float64(18.4)"
            ]
          },
          "metadata": {},
          "execution_count": 106
        }
      ]
    },
    {
      "cell_type": "code",
      "source": [
        "#Extract Math marks of all students.\n",
        "mathMark = data[:, 1]\n",
        "mathMark"
      ],
      "metadata": {
        "colab": {
          "base_uri": "https://localhost:8080/"
        },
        "id": "CiyzNiRbg1Ty",
        "outputId": "a56322a1-706e-479e-e2c7-87e33c49f087"
      },
      "execution_count": 107,
      "outputs": [
        {
          "output_type": "execute_result",
          "data": {
            "text/plain": [
              "array([85, 92, 76, 65, 90])"
            ]
          },
          "metadata": {},
          "execution_count": 107
        }
      ]
    },
    {
      "cell_type": "code",
      "source": [
        "#Find the highest Science mark.\n",
        "highestMark =  data[:, 2].max()\n",
        "highestMark"
      ],
      "metadata": {
        "colab": {
          "base_uri": "https://localhost:8080/"
        },
        "id": "djRUafmpg-OW",
        "outputId": "1af1017d-34c6-4579-d0c7-bfbaab5b2fe5"
      },
      "execution_count": 108,
      "outputs": [
        {
          "output_type": "execute_result",
          "data": {
            "text/plain": [
              "np.int64(95)"
            ]
          },
          "metadata": {},
          "execution_count": 108
        }
      ]
    },
    {
      "cell_type": "code",
      "source": [
        "#Get details of the student who scored more than 90 in Math.\n",
        "MoreThanNinetyMath = data[data[:, 1] > 90]\n",
        "MoreThanNinetyMath"
      ],
      "metadata": {
        "colab": {
          "base_uri": "https://localhost:8080/"
        },
        "id": "Ah0NT6lOhJxd",
        "outputId": "be561b85-4b18-47be-d080-4f8eb114cc7c"
      },
      "execution_count": 109,
      "outputs": [
        {
          "output_type": "execute_result",
          "data": {
            "text/plain": [
              "array([[19, 92, 88]])"
            ]
          },
          "metadata": {},
          "execution_count": 109
        }
      ]
    },
    {
      "cell_type": "code",
      "source": [
        "# #Increase Math marks of all students by 5.\n",
        "\n",
        "data[: , 1] += 5\n",
        "data"
      ],
      "metadata": {
        "colab": {
          "base_uri": "https://localhost:8080/"
        },
        "id": "LX-PEsqlhdUN",
        "outputId": "31894fe3-3dc8-4791-ef95-df22e27a113a"
      },
      "execution_count": 111,
      "outputs": [
        {
          "output_type": "execute_result",
          "data": {
            "text/plain": [
              "array([[18, 90, 78],\n",
              "       [19, 97, 88],\n",
              "       [17, 81, 95],\n",
              "       [18, 70, 70],\n",
              "       [20, 95, 85]])"
            ]
          },
          "metadata": {},
          "execution_count": 111
        }
      ]
    },
    {
      "cell_type": "code",
      "source": [
        "#Find how many students are younger than 19.\n",
        "len(data[data[:, 0] < 19])"
      ],
      "metadata": {
        "colab": {
          "base_uri": "https://localhost:8080/"
        },
        "id": "MoBYJKUhhpLX",
        "outputId": "b090662d-a489-428b-d669-ed76f3a72f05"
      },
      "execution_count": 112,
      "outputs": [
        {
          "output_type": "execute_result",
          "data": {
            "text/plain": [
              "3"
            ]
          },
          "metadata": {},
          "execution_count": 112
        }
      ]
    },
    {
      "cell_type": "code",
      "source": [
        "#Calculate the average marks in each subject (column-wise mean).\n",
        "MeanMark = data[:, 1:].mean(axis=0)\n",
        "MeanMark"
      ],
      "metadata": {
        "colab": {
          "base_uri": "https://localhost:8080/"
        },
        "id": "kcvSi7AUh1r3",
        "outputId": "1ee170a8-ab3b-4610-9bc1-cd03a8114b2e"
      },
      "execution_count": 113,
      "outputs": [
        {
          "output_type": "execute_result",
          "data": {
            "text/plain": [
              "array([86.6, 83.2])"
            ]
          },
          "metadata": {},
          "execution_count": 113
        }
      ]
    },
    {
      "cell_type": "code",
      "source": [
        "#Get data of students who scored at least 80 in both subjects.\n",
        "data[(data[: , 1] >= 80) & (data[:,2] >= 80)]"
      ],
      "metadata": {
        "colab": {
          "base_uri": "https://localhost:8080/"
        },
        "id": "Wgy_KVbhijr2",
        "outputId": "46c92fa8-0488-4f96-a718-3105c55fd8c0"
      },
      "execution_count": 114,
      "outputs": [
        {
          "output_type": "execute_result",
          "data": {
            "text/plain": [
              "array([[19, 97, 88],\n",
              "       [17, 81, 95],\n",
              "       [20, 95, 85]])"
            ]
          },
          "metadata": {},
          "execution_count": 114
        }
      ]
    },
    {
      "cell_type": "code",
      "source": [
        "#Replace all Science marks < 75 with 0.\n",
        "data[data[:, 2] < 75, 2] = 0\n",
        "data"
      ],
      "metadata": {
        "id": "AgeQz-FfjRPT",
        "outputId": "15b9ef97-7dd2-4130-a523-b1207ce4e440",
        "colab": {
          "base_uri": "https://localhost:8080/"
        }
      },
      "execution_count": 115,
      "outputs": [
        {
          "output_type": "execute_result",
          "data": {
            "text/plain": [
              "array([[18, 90, 78],\n",
              "       [19, 97, 88],\n",
              "       [17, 81, 95],\n",
              "       [18, 70,  0],\n",
              "       [20, 95, 85]])"
            ]
          },
          "metadata": {},
          "execution_count": 115
        }
      ]
    }
  ]
}